{
 "cells": [
  {
   "cell_type": "markdown",
   "id": "a9a62756",
   "metadata": {},
   "source": [
    "## 빅데이터 주요모듈 학습\n",
    "\n",
    "### Numpy"
   ]
  },
  {
   "cell_type": "code",
   "execution_count": 1,
   "id": "438a1088",
   "metadata": {},
   "outputs": [
    {
     "name": "stdout",
     "output_type": "stream",
     "text": [
      "Requirement already satisfied: numpy in c:\\source\\iot-dataanalysis-2025\\mlvenv\\lib\\site-packages (1.26.4)\n",
      "Note: you may need to restart the kernel to use updated packages.\n"
     ]
    },
    {
     "name": "stderr",
     "output_type": "stream",
     "text": [
      "\n",
      "[notice] A new release of pip is available: 24.0 -> 25.0.1\n",
      "[notice] To update, run: python.exe -m pip install --upgrade pip\n"
     ]
    }
   ],
   "source": [
    "# numpy 설치\n",
    "%pip install numpy"
   ]
  },
  {
   "cell_type": "code",
   "execution_count": 5,
   "id": "634da61a",
   "metadata": {},
   "outputs": [
    {
     "data": {
      "text/plain": [
       "'1.26.4'"
      ]
     },
     "execution_count": 5,
     "metadata": {},
     "output_type": "execute_result"
    }
   ],
   "source": [
    "import numpy as np\n",
    "np.__version__\n",
    "# 버전을 높이는게 무조건 좋은 것 아님! <호환성 문제>"
   ]
  },
  {
   "cell_type": "code",
   "execution_count": 7,
   "id": "4a5525c6",
   "metadata": {},
   "outputs": [
    {
     "data": {
      "text/plain": [
       "array([1, 2, 3, 4, 5])"
      ]
     },
     "execution_count": 7,
     "metadata": {},
     "output_type": "execute_result"
    }
   ],
   "source": [
    "lst = [1,2,3,4,5]\n",
    "vec = np.array(lst)\n",
    "vec"
   ]
  },
  {
   "cell_type": "code",
   "execution_count": 9,
   "id": "56dbd0de",
   "metadata": {},
   "outputs": [
    {
     "data": {
      "text/plain": [
       "array([1, 3, 5, 7, 9])"
      ]
     },
     "execution_count": 9,
     "metadata": {},
     "output_type": "execute_result"
    }
   ],
   "source": [
    "vec = np.array([1,3,5,7,9])\n",
    "vec"
   ]
  },
  {
   "cell_type": "code",
   "execution_count": 12,
   "id": "558bbb07",
   "metadata": {},
   "outputs": [
    {
     "data": {
      "text/plain": [
       "(5,)"
      ]
     },
     "execution_count": 12,
     "metadata": {},
     "output_type": "execute_result"
    }
   ],
   "source": [
    "# 현재 vec의 형태 확인\n",
    "# 1차원 배열 - (크기, )\n",
    "vec.shape"
   ]
  },
  {
   "cell_type": "code",
   "execution_count": 14,
   "id": "da37149c",
   "metadata": {},
   "outputs": [
    {
     "data": {
      "text/plain": [
       "[[1, 2, 3], [4, 5, 6, 7]]"
      ]
     },
     "execution_count": 14,
     "metadata": {},
     "output_type": "execute_result"
    }
   ],
   "source": [
    "# 파이썬에서 2차원 리스트는 가변이 가능\n",
    "lst2 = [[1,2,3],[4,5,6,7]]\n",
    "lst2"
   ]
  },
  {
   "cell_type": "code",
   "execution_count": 16,
   "id": "f66e3622",
   "metadata": {},
   "outputs": [
    {
     "data": {
      "text/plain": [
       "array([[1, 2, 3],\n",
       "       [4, 5, 6]])"
      ]
     },
     "execution_count": 16,
     "metadata": {},
     "output_type": "execute_result"
    }
   ],
   "source": [
    "# 2차원 배열 \n",
    "mat = np.array([[1,2,3], [4,5,6]])\n",
    "mat"
   ]
  },
  {
   "cell_type": "code",
   "execution_count": 20,
   "id": "72ea47fd",
   "metadata": {},
   "outputs": [
    {
     "data": {
      "text/plain": [
       "(2, 3)"
      ]
     },
     "execution_count": 20,
     "metadata": {},
     "output_type": "execute_result"
    }
   ],
   "source": [
    "# 2차원 배열 - (행, 열)\n",
    "mat.shape"
   ]
  },
  {
   "cell_type": "code",
   "execution_count": 18,
   "id": "ed15d852",
   "metadata": {},
   "outputs": [
    {
     "name": "stdout",
     "output_type": "stream",
     "text": [
      "<class 'list'> <class 'numpy.ndarray'>\n",
      "<class 'list'> <class 'numpy.ndarray'>\n"
     ]
    }
   ],
   "source": [
    "print(type(lst), type(vec))\n",
    "print(type(lst2), type(mat))"
   ]
  },
  {
   "cell_type": "code",
   "execution_count": 22,
   "id": "4d27953a",
   "metadata": {},
   "outputs": [
    {
     "data": {
      "text/plain": [
       "array([[1., 1., 1.],\n",
       "       [1., 1., 1.]])"
      ]
     },
     "execution_count": 22,
     "metadata": {},
     "output_type": "execute_result"
    }
   ],
   "source": [
    "# 배열초기화\n",
    "mat_one = np.ones((2,3))\n",
    "mat_one"
   ]
  },
  {
   "cell_type": "code",
   "execution_count": 24,
   "id": "1fc10524",
   "metadata": {},
   "outputs": [
    {
     "data": {
      "text/plain": [
       "array([[0., 0., 0.],\n",
       "       [0., 0., 0.]])"
      ]
     },
     "execution_count": 24,
     "metadata": {},
     "output_type": "execute_result"
    }
   ],
   "source": [
    "mat_zero = np.zeros((2,3))\n",
    "mat_zero"
   ]
  },
  {
   "cell_type": "code",
   "execution_count": 26,
   "id": "e5507dcc",
   "metadata": {},
   "outputs": [
    {
     "data": {
      "text/plain": [
       "array([[1., 0., 0.],\n",
       "       [0., 1., 0.],\n",
       "       [0., 0., 1.]])"
      ]
     },
     "execution_count": 26,
     "metadata": {},
     "output_type": "execute_result"
    }
   ],
   "source": [
    "# 단위행렬\n",
    "mat_unit = np.eye(3)\n",
    "mat_unit"
   ]
  },
  {
   "cell_type": "code",
   "execution_count": 32,
   "id": "3a9c4225",
   "metadata": {},
   "outputs": [
    {
     "data": {
      "text/plain": [
       "array([[0.96550764, 0.15098567, 0.23021836],\n",
       "       [0.13040549, 0.30474288, 0.6538655 ]])"
      ]
     },
     "execution_count": 32,
     "metadata": {},
     "output_type": "execute_result"
    }
   ],
   "source": [
    "# 랜덤행렬 : 실행 마다 값 변경됨\n",
    "mat_rand = np.random.random((2,3))\n",
    "mat_rand"
   ]
  },
  {
   "cell_type": "code",
   "execution_count": 34,
   "id": "e8fd559f",
   "metadata": {},
   "outputs": [
    {
     "data": {
      "text/plain": [
       "array([0, 1, 2, 3, 4, 5, 6, 7, 8, 9])"
      ]
     },
     "execution_count": 34,
     "metadata": {},
     "output_type": "execute_result"
    }
   ],
   "source": [
    "# 0~9까지 정렬\n",
    "vec_rng = np.arange(10)\n",
    "vec_rng"
   ]
  },
  {
   "cell_type": "markdown",
   "id": "34eecb4e",
   "metadata": {},
   "source": [
    "- 행렬 연산에 +,-,*,/ 연산 가능\n",
    "- np.add(), np.subtract(), np.multiply(), np.divide() 로도 사용 가능"
   ]
  },
  {
   "cell_type": "markdown",
   "id": "e0ac1ad6",
   "metadata": {},
   "source": [
    "### Pandas\n",
    "\n",
    "- 손쉬운 데이터처리를 위한 라이브러리. 데이터 분석 시 필수 라이브러리\n",
    "\n",
    "#### 설치\n",
    "\n",
    "> pip install pandas"
   ]
  },
  {
   "cell_type": "code",
   "execution_count": 35,
   "id": "66036456",
   "metadata": {},
   "outputs": [
    {
     "name": "stdout",
     "output_type": "stream",
     "text": [
      "Requirement already satisfied: pandas in c:\\source\\iot-dataanalysis-2025\\mlvenv\\lib\\site-packages (2.2.3)\n",
      "Requirement already satisfied: numpy>=1.23.2 in c:\\source\\iot-dataanalysis-2025\\mlvenv\\lib\\site-packages (from pandas) (1.26.4)\n",
      "Requirement already satisfied: python-dateutil>=2.8.2 in c:\\source\\iot-dataanalysis-2025\\mlvenv\\lib\\site-packages (from pandas) (2.9.0.post0)\n",
      "Requirement already satisfied: pytz>=2020.1 in c:\\source\\iot-dataanalysis-2025\\mlvenv\\lib\\site-packages (from pandas) (2025.2)\n",
      "Requirement already satisfied: tzdata>=2022.7 in c:\\source\\iot-dataanalysis-2025\\mlvenv\\lib\\site-packages (from pandas) (2025.2)\n",
      "Requirement already satisfied: six>=1.5 in c:\\source\\iot-dataanalysis-2025\\mlvenv\\lib\\site-packages (from python-dateutil>=2.8.2->pandas) (1.17.0)\n",
      "Note: you may need to restart the kernel to use updated packages.\n"
     ]
    },
    {
     "name": "stderr",
     "output_type": "stream",
     "text": [
      "\n",
      "[notice] A new release of pip is available: 24.0 -> 25.0.1\n",
      "[notice] To update, run: python.exe -m pip install --upgrade pip\n"
     ]
    }
   ],
   "source": [
    "# Pandas 설치\n",
    "%pip install pandas"
   ]
  },
  {
   "cell_type": "code",
   "execution_count": 36,
   "id": "8bf01a65",
   "metadata": {},
   "outputs": [
    {
     "data": {
      "text/plain": [
       "'2.2.3'"
      ]
     },
     "execution_count": 36,
     "metadata": {},
     "output_type": "execute_result"
    }
   ],
   "source": [
    "import pandas as pd\n",
    "\n",
    "pd.__version__"
   ]
  },
  {
   "cell_type": "markdown",
   "id": "5b2700be",
   "metadata": {},
   "source": [
    "#### 데이터 구조\n",
    "- DataFrame : 2차원 배열과 동일(기본타입)\n",
    "- Series : 1차원 배열과 동일(단위타입)\n",
    "\n",
    "- Panel : ? 사용x\n",
    "\n",
    "<img src=\"../image/ml0003.png\" width=\"600\">"
   ]
  },
  {
   "cell_type": "code",
   "execution_count": 42,
   "id": "ee16f6de",
   "metadata": {},
   "outputs": [],
   "source": [
    "# 데이터프레임 생성\n",
    "# 파이썬 리스트, 딕셔너리, 튜플에서 변환 가능\n",
    "datas = {\n",
    "    '이름' : ['길동이', '길순이', '유고', '애슐리'],\n",
    "    '국어' : [81.2, 100.0, 10.0, 90.3],\n",
    "    '영어' : [54.4, 100.0, 99.5, 100.0]\n",
    "}\n",
    "df1 = pd.DataFrame(datas)"
   ]
  },
  {
   "cell_type": "code",
   "execution_count": 43,
   "id": "c838c72c",
   "metadata": {},
   "outputs": [
    {
     "data": {
      "text/html": [
       "<div>\n",
       "<style scoped>\n",
       "    .dataframe tbody tr th:only-of-type {\n",
       "        vertical-align: middle;\n",
       "    }\n",
       "\n",
       "    .dataframe tbody tr th {\n",
       "        vertical-align: top;\n",
       "    }\n",
       "\n",
       "    .dataframe thead th {\n",
       "        text-align: right;\n",
       "    }\n",
       "</style>\n",
       "<table border=\"1\" class=\"dataframe\">\n",
       "  <thead>\n",
       "    <tr style=\"text-align: right;\">\n",
       "      <th></th>\n",
       "      <th>이름</th>\n",
       "      <th>국어</th>\n",
       "      <th>영어</th>\n",
       "    </tr>\n",
       "  </thead>\n",
       "  <tbody>\n",
       "    <tr>\n",
       "      <th>0</th>\n",
       "      <td>길동이</td>\n",
       "      <td>81.2</td>\n",
       "      <td>54.4</td>\n",
       "    </tr>\n",
       "    <tr>\n",
       "      <th>1</th>\n",
       "      <td>길순이</td>\n",
       "      <td>100.0</td>\n",
       "      <td>100.0</td>\n",
       "    </tr>\n",
       "    <tr>\n",
       "      <th>2</th>\n",
       "      <td>유고</td>\n",
       "      <td>10.0</td>\n",
       "      <td>99.5</td>\n",
       "    </tr>\n",
       "    <tr>\n",
       "      <th>3</th>\n",
       "      <td>애슐리</td>\n",
       "      <td>90.3</td>\n",
       "      <td>100.0</td>\n",
       "    </tr>\n",
       "  </tbody>\n",
       "</table>\n",
       "</div>"
      ],
      "text/plain": [
       "    이름     국어     영어\n",
       "0  길동이   81.2   54.4\n",
       "1  길순이  100.0  100.0\n",
       "2   유고   10.0   99.5\n",
       "3  애슐리   90.3  100.0"
      ]
     },
     "execution_count": 43,
     "metadata": {},
     "output_type": "execute_result"
    }
   ],
   "source": [
    "df1"
   ]
  },
  {
   "cell_type": "code",
   "execution_count": 46,
   "id": "f736a655",
   "metadata": {},
   "outputs": [
    {
     "data": {
      "text/plain": [
       "이름     길동이\n",
       "국어    81.2\n",
       "영어    54.4\n",
       "dtype: object"
      ]
     },
     "execution_count": 46,
     "metadata": {},
     "output_type": "execute_result"
    }
   ],
   "source": [
    "# 시리즈 생성\n",
    "score = pd.Series(data=['길동이', 81.2, 54.4], index=['이름', '국어', '영어'])\n",
    "score"
   ]
  },
  {
   "cell_type": "markdown",
   "id": "05d06e20",
   "metadata": {},
   "source": [
    "- 실제 빅데이터 분석시 데이터 로드에 가장 많이 사용하는 방법"
   ]
  },
  {
   "cell_type": "code",
   "execution_count": 58,
   "id": "a589736b",
   "metadata": {},
   "outputs": [
    {
     "data": {
      "text/html": [
       "<div>\n",
       "<style scoped>\n",
       "    .dataframe tbody tr th:only-of-type {\n",
       "        vertical-align: middle;\n",
       "    }\n",
       "\n",
       "    .dataframe tbody tr th {\n",
       "        vertical-align: top;\n",
       "    }\n",
       "\n",
       "    .dataframe thead th {\n",
       "        text-align: right;\n",
       "    }\n",
       "</style>\n",
       "<table border=\"1\" class=\"dataframe\">\n",
       "  <thead>\n",
       "    <tr style=\"text-align: right;\">\n",
       "      <th></th>\n",
       "      <th>student_id</th>\n",
       "      <th>name</th>\n",
       "      <th>score</th>\n",
       "    </tr>\n",
       "  </thead>\n",
       "  <tbody>\n",
       "    <tr>\n",
       "      <th>0</th>\n",
       "      <td>2001</td>\n",
       "      <td>Steve</td>\n",
       "      <td>89.9</td>\n",
       "    </tr>\n",
       "    <tr>\n",
       "      <th>1</th>\n",
       "      <td>2002</td>\n",
       "      <td>Bill</td>\n",
       "      <td>99.8</td>\n",
       "    </tr>\n",
       "    <tr>\n",
       "      <th>2</th>\n",
       "      <td>2003</td>\n",
       "      <td>Ellon</td>\n",
       "      <td>100.0</td>\n",
       "    </tr>\n",
       "    <tr>\n",
       "      <th>3</th>\n",
       "      <td>2004</td>\n",
       "      <td>Ellen</td>\n",
       "      <td>67.5</td>\n",
       "    </tr>\n",
       "    <tr>\n",
       "      <th>4</th>\n",
       "      <td>2005</td>\n",
       "      <td>Tony</td>\n",
       "      <td>90.3</td>\n",
       "    </tr>\n",
       "  </tbody>\n",
       "</table>\n",
       "</div>"
      ],
      "text/plain": [
       "   student_id   name  score\n",
       "0        2001  Steve   89.9\n",
       "1        2002   Bill   99.8\n",
       "2        2003  Ellon  100.0\n",
       "3        2004  Ellen   67.5\n",
       "4        2005   Tony   90.3"
      ]
     },
     "execution_count": 58,
     "metadata": {},
     "output_type": "execute_result"
    }
   ],
   "source": [
    "# 엑셀, csv 로드 - 이 형태로 데이터프레임 생성 가장 빈도높음\n",
    "df2 = pd.read_csv('C:\\Source\\iot-dataanalysis-2025\\image\\student_score.csv')\n",
    "df2"
   ]
  },
  {
   "cell_type": "code",
   "execution_count": 60,
   "id": "097ccacf",
   "metadata": {},
   "outputs": [
    {
     "data": {
      "text/html": [
       "<div>\n",
       "<style scoped>\n",
       "    .dataframe tbody tr th:only-of-type {\n",
       "        vertical-align: middle;\n",
       "    }\n",
       "\n",
       "    .dataframe tbody tr th {\n",
       "        vertical-align: top;\n",
       "    }\n",
       "\n",
       "    .dataframe thead th {\n",
       "        text-align: right;\n",
       "    }\n",
       "</style>\n",
       "<table border=\"1\" class=\"dataframe\">\n",
       "  <thead>\n",
       "    <tr style=\"text-align: right;\">\n",
       "      <th></th>\n",
       "      <th>student_id</th>\n",
       "      <th>name</th>\n",
       "      <th>score</th>\n",
       "    </tr>\n",
       "  </thead>\n",
       "  <tbody>\n",
       "    <tr>\n",
       "      <th>0</th>\n",
       "      <td>2001</td>\n",
       "      <td>Steve</td>\n",
       "      <td>89.9</td>\n",
       "    </tr>\n",
       "    <tr>\n",
       "      <th>1</th>\n",
       "      <td>2002</td>\n",
       "      <td>Bill</td>\n",
       "      <td>99.8</td>\n",
       "    </tr>\n",
       "  </tbody>\n",
       "</table>\n",
       "</div>"
      ],
      "text/plain": [
       "   student_id   name  score\n",
       "0        2001  Steve   89.9\n",
       "1        2002   Bill   99.8"
      ]
     },
     "execution_count": 60,
     "metadata": {},
     "output_type": "execute_result"
    }
   ],
   "source": [
    "# 일부 갯수만 출력. head(), tail() 기본수는 5\n",
    "df2.head(2)"
   ]
  },
  {
   "cell_type": "code",
   "execution_count": 59,
   "id": "f4fe72ab",
   "metadata": {},
   "outputs": [
    {
     "data": {
      "text/html": [
       "<div>\n",
       "<style scoped>\n",
       "    .dataframe tbody tr th:only-of-type {\n",
       "        vertical-align: middle;\n",
       "    }\n",
       "\n",
       "    .dataframe tbody tr th {\n",
       "        vertical-align: top;\n",
       "    }\n",
       "\n",
       "    .dataframe thead th {\n",
       "        text-align: right;\n",
       "    }\n",
       "</style>\n",
       "<table border=\"1\" class=\"dataframe\">\n",
       "  <thead>\n",
       "    <tr style=\"text-align: right;\">\n",
       "      <th></th>\n",
       "      <th>student_id</th>\n",
       "      <th>name</th>\n",
       "      <th>score</th>\n",
       "    </tr>\n",
       "  </thead>\n",
       "  <tbody>\n",
       "    <tr>\n",
       "      <th>4</th>\n",
       "      <td>2005</td>\n",
       "      <td>Tony</td>\n",
       "      <td>90.3</td>\n",
       "    </tr>\n",
       "  </tbody>\n",
       "</table>\n",
       "</div>"
      ],
      "text/plain": [
       "   student_id  name  score\n",
       "4        2005  Tony   90.3"
      ]
     },
     "execution_count": 59,
     "metadata": {},
     "output_type": "execute_result"
    }
   ],
   "source": [
    "df2.tail(1)"
   ]
  },
  {
   "cell_type": "code",
   "execution_count": 62,
   "id": "c4b9fadb",
   "metadata": {},
   "outputs": [
    {
     "data": {
      "text/plain": [
       "0     89.9\n",
       "1     99.8\n",
       "2    100.0\n",
       "3     67.5\n",
       "4     90.3\n",
       "Name: score, dtype: float64"
      ]
     },
     "execution_count": 62,
     "metadata": {},
     "output_type": "execute_result"
    }
   ],
   "source": [
    "# 필요한 열만 조회 -> Series\n",
    "df2['score']"
   ]
  },
  {
   "cell_type": "code",
   "execution_count": 64,
   "id": "8cac9688",
   "metadata": {},
   "outputs": [
    {
     "data": {
      "text/html": [
       "<div>\n",
       "<style scoped>\n",
       "    .dataframe tbody tr th:only-of-type {\n",
       "        vertical-align: middle;\n",
       "    }\n",
       "\n",
       "    .dataframe tbody tr th {\n",
       "        vertical-align: top;\n",
       "    }\n",
       "\n",
       "    .dataframe thead th {\n",
       "        text-align: right;\n",
       "    }\n",
       "</style>\n",
       "<table border=\"1\" class=\"dataframe\">\n",
       "  <thead>\n",
       "    <tr style=\"text-align: right;\">\n",
       "      <th></th>\n",
       "      <th>0</th>\n",
       "      <th>1</th>\n",
       "      <th>2</th>\n",
       "    </tr>\n",
       "  </thead>\n",
       "  <tbody>\n",
       "    <tr>\n",
       "      <th>0</th>\n",
       "      <td>1</td>\n",
       "      <td>2</td>\n",
       "      <td>3</td>\n",
       "    </tr>\n",
       "    <tr>\n",
       "      <th>1</th>\n",
       "      <td>4</td>\n",
       "      <td>5</td>\n",
       "      <td>6</td>\n",
       "    </tr>\n",
       "  </tbody>\n",
       "</table>\n",
       "</div>"
      ],
      "text/plain": [
       "   0  1  2\n",
       "0  1  2  3\n",
       "1  4  5  6"
      ]
     },
     "execution_count": 64,
     "metadata": {},
     "output_type": "execute_result"
    }
   ],
   "source": [
    "# numpy와 연동 가능\n",
    "pd.DataFrame(np.array([[1,2,3],[4,5,6]]))"
   ]
  },
  {
   "cell_type": "markdown",
   "id": "ee526bd3",
   "metadata": {},
   "source": [
    "### Matplotlib, Seaborn\n",
    "    - 차트 시각화 라이브러리"
   ]
  },
  {
   "cell_type": "code",
   "execution_count": null,
   "id": "ef779f56",
   "metadata": {},
   "outputs": [],
   "source": [
    "# Matplotlib 설치\n",
    "%pip install matplotlib"
   ]
  },
  {
   "cell_type": "code",
   "execution_count": null,
   "id": "99a589c4",
   "metadata": {},
   "outputs": [],
   "source": [
    "# Seaborn 설치\n",
    "%pip install seaborn"
   ]
  },
  {
   "cell_type": "code",
   "execution_count": 68,
   "id": "c8ea1030",
   "metadata": {},
   "outputs": [
    {
     "data": {
      "text/plain": [
       "'3.10.1'"
      ]
     },
     "execution_count": 68,
     "metadata": {},
     "output_type": "execute_result"
    }
   ],
   "source": [
    "# 모듈 사용\n",
    "import matplotlib.pyplot as plt\n",
    "import seaborn as sns\n",
    "import matplotlib\n",
    "\n",
    "matplotlib.__version__"
   ]
  },
  {
   "cell_type": "code",
   "execution_count": null,
   "id": "1e4a04aa",
   "metadata": {},
   "outputs": [],
   "source": [
    "# 한글로 Matplotlib 사용시 항상 필요\n",
    "from matplotlib import rcParams, font_manager, rc\n",
    "\n",
    "font_path = 'C:/Windows/Fonts/malgun.ttf' # 나눔고딕코딩 사용, 나눔고딕에서 오류발생(!) font_path = 'C:/Windows/Fonts/NanumGothicCoding.ttf'\n",
    "font = font_manager.FontProperties(fname=font_path).get_name() # 실제 설치된 폰트 이름조회\n",
    "rc('font', family=font) # 한글깨짐현상 해결!!\n",
    "rcParams['axes.unicode_minus'] = False # 한글 사용시 마이너스 표시 깨짐 해결!\n",
    "\n",
    "sns.set_style('darkgrid')\n",
    "sns.set_theme(font='Malgun Gothic', rc={'axes.unicode_minus': False})"
   ]
  },
  {
   "cell_type": "code",
   "execution_count": 72,
   "id": "1f5a7d53",
   "metadata": {},
   "outputs": [
    {
     "data": {
      "text/plain": [
       "array([0.99037609, 0.21709924, 0.33040253, 0.77006307, 0.02417258,\n",
       "       0.27688668, 0.76510378, 0.46481754, 0.35237129, 0.75780993,\n",
       "       0.67466844, 0.14267553, 0.60223366, 0.66167385, 0.87183488,\n",
       "       0.94065317, 0.5403955 , 0.49146869, 0.08960954, 0.51879408,\n",
       "       0.81491579, 0.01905786, 0.61543342, 0.05284998, 0.56521801,\n",
       "       0.12361761, 0.94347941, 0.67616116, 0.58873633, 0.24626872,\n",
       "       0.71858105, 0.73348357, 0.9269803 , 0.48358228, 0.43150625,\n",
       "       0.98759656, 0.29193269, 0.60697391, 0.50641232, 0.41350701,\n",
       "       0.09868025, 0.21756877, 0.32667583, 0.77342572, 0.81970954,\n",
       "       0.66132865, 0.36129595, 0.00896213, 0.10123086, 0.97419545])"
      ]
     },
     "execution_count": 72,
     "metadata": {},
     "output_type": "execute_result"
    }
   ],
   "source": [
    "# 기본데이터\n",
    "arr = np.random.random(50)\n",
    "arr"
   ]
  },
  {
   "cell_type": "code",
   "execution_count": 84,
   "id": "edaa3940",
   "metadata": {},
   "outputs": [
    {
     "data": {
      "image/png": "[encoded data removed]",
      "text/plain": [
       "<Figure size 640x480 with 1 Axes>"
      ]
     },
     "metadata": {},
     "output_type": "display_data"
    }
   ],
   "source": [
    "# 단일차트(라인차트)\n",
    "plt.plot(arr)\n",
    "plt.show()"
   ]
  },
  {
   "cell_type": "code",
   "execution_count": 82,
   "id": "680f8f07",
   "metadata": {},
   "outputs": [
    {
     "data": {
      "image/png": "[encoded data removed]",
      "text/plain": [
       "<Figure size 640x480 with 1 Axes>"
      ]
     },
     "metadata": {},
     "output_type": "display_data"
    }
   ],
   "source": [
    "# 분포표(정규분포)\n",
    "plt.hist(np.random.randn(100))\n",
    "plt.show()"
   ]
  },
  {
   "cell_type": "code",
   "execution_count": 99,
   "id": "d7fff6d2",
   "metadata": {},
   "outputs": [
    {
     "data": {
      "image/png": "[encoded data removed]",
      "text/plain": [
       "<Figure size 640x480 with 1 Axes>"
      ]
     },
     "metadata": {},
     "output_type": "display_data"
    }
   ],
   "source": [
    "# 산점도\n",
    "plt.scatter(np.arange(50), np.random.randn(50))\n",
    "plt.show()"
   ]
  },
  {
   "cell_type": "code",
   "execution_count": null,
   "id": "9cdb317e",
   "metadata": {},
   "outputs": [
    {
     "data": {
      "image/png": "[encoded data removed]",
      "text/plain": [
       "<Figure size 1000x1000 with 3 Axes>"
      ]
     },
     "metadata": {},
     "output_type": "display_data"
    }
   ],
   "source": [
    "# 다중차트 - 여러차트 한꺼번에 출력\n",
    "fig = plt.figure(figsize=(10,10)) # 객체 생성 figsize=(x,y)\n",
    "\n",
    "ax1 = fig.add_subplot(2, 2, 1) # 2x2 차트 중 1번째\n",
    "ax2 = fig.add_subplot(2, 2, 2) # 2x2 차트 중 2번째\n",
    "ax4 = fig.add_subplot(2, 2, 4) # 2x2 차트 중 4번째\n",
    "\n",
    "ax1.hist(np.random.randn(100))\n",
    "ax2.scatter(np.arange(30), np.random.randn(30))\n",
    "ax4.plot(arr)\n",
    "\n",
    "plt.show()"
   ]
  },
  {
   "cell_type": "code",
   "execution_count": null,
   "id": "f47dbcbb",
   "metadata": {},
   "outputs": [],
   "source": [
    "# 다중차트 꾸미기\n",
    "# color -> 색상변경, marker -> 포인트모양 (o, ^, * )\n",
    "# linstyle -> -, --, :, -.\n",
    "ax[0][0].hist(np.random.randn(100), color='green'))\n",
    "ax[0][1].scatter = fig.add_subplot(2, 2, 2) # 2x2 차트 중 2번째\n",
    "ax[1][0].plot = fig.add_subplot(2, 2, 4) # 2x2 차트 중 4번째\n",
    "\n",
    "ax1.hist(np.random.randn(100))\n",
    "ax2.scatter(np.arange(30), np.random.randn(30))\n",
    "ax4.plot(arr)\n"
   ]
  },
  {
   "cell_type": "markdown",
   "id": "7abc8109",
   "metadata": {},
   "source": [
    "### Folium\n",
    "- 지도 표시 라이브러리, leaflet.js 자바스크립트를 파이썬용으로 변환\n",
    "- 깃허브에서 표시가 안됨\n",
    "```shell\n",
    "pip install Folium\n",
    "```"
   ]
  },
  {
   "cell_type": "code",
   "execution_count": 106,
   "id": "7fb842d7",
   "metadata": {},
   "outputs": [
    {
     "name": "stdout",
     "output_type": "stream",
     "text": [
      "Collecting Folium\n",
      "  Downloading folium-0.19.5-py2.py3-none-any.whl.metadata (4.1 kB)\n",
      "Collecting branca>=0.6.0 (from Folium)\n",
      "  Downloading branca-0.8.1-py3-none-any.whl.metadata (1.5 kB)\n",
      "Collecting jinja2>=2.9 (from Folium)\n",
      "  Downloading jinja2-3.1.6-py3-none-any.whl.metadata (2.9 kB)\n",
      "Requirement already satisfied: numpy in c:\\source\\iot-dataanalysis-2025\\mlvenv\\lib\\site-packages (from Folium) (1.26.4)\n",
      "Requirement already satisfied: requests in c:\\source\\iot-dataanalysis-2025\\mlvenv\\lib\\site-packages (from Folium) (2.32.3)\n",
      "Collecting xyzservices (from Folium)\n",
      "  Downloading xyzservices-2025.1.0-py3-none-any.whl.metadata (4.3 kB)\n",
      "Requirement already satisfied: MarkupSafe>=2.0 in c:\\source\\iot-dataanalysis-2025\\mlvenv\\lib\\site-packages (from jinja2>=2.9->Folium) (3.0.2)\n",
      "Requirement already satisfied: charset-normalizer<4,>=2 in c:\\source\\iot-dataanalysis-2025\\mlvenv\\lib\\site-packages (from requests->Folium) (3.4.1)\n",
      "Requirement already satisfied: idna<4,>=2.5 in c:\\source\\iot-dataanalysis-2025\\mlvenv\\lib\\site-packages (from requests->Folium) (3.10)\n",
      "Requirement already satisfied: urllib3<3,>=1.21.1 in c:\\source\\iot-dataanalysis-2025\\mlvenv\\lib\\site-packages (from requests->Folium) (2.3.0)\n",
      "Requirement already satisfied: certifi>=2017.4.17 in c:\\source\\iot-dataanalysis-2025\\mlvenv\\lib\\site-packages (from requests->Folium) (2025.1.31)\n",
      "Downloading folium-0.19.5-py2.py3-none-any.whl (110 kB)\n",
      "   ---------------------------------------- 0.0/110.9 kB ? eta -:--:--\n",
      "   --------------------------------- ------ 92.2/110.9 kB 2.6 MB/s eta 0:00:01\n",
      "   ---------------------------------------- 110.9/110.9 kB 2.1 MB/s eta 0:00:00\n",
      "Downloading branca-0.8.1-py3-none-any.whl (26 kB)\n",
      "Downloading jinja2-3.1.6-py3-none-any.whl (134 kB)\n",
      "   ---------------------------------------- 0.0/134.9 kB ? eta -:--:--\n",
      "   ---------------------------------------- 134.9/134.9 kB 7.8 MB/s eta 0:00:00\n",
      "Downloading xyzservices-2025.1.0-py3-none-any.whl (88 kB)\n",
      "   ---------------------------------------- 0.0/88.4 kB ? eta -:--:--\n",
      "   ---------------------------------------- 88.4/88.4 kB 4.9 MB/s eta 0:00:00\n",
      "Installing collected packages: xyzservices, jinja2, branca, Folium\n",
      "Successfully installed Folium-0.19.5 branca-0.8.1 jinja2-3.1.6 xyzservices-2025.1.0\n",
      "Note: you may need to restart the kernel to use updated packages.\n"
     ]
    },
    {
     "name": "stderr",
     "output_type": "stream",
     "text": [
      "\n",
      "[notice] A new release of pip is available: 24.0 -> 25.0.1\n",
      "[notice] To update, run: python.exe -m pip install --upgrade pip\n"
     ]
    }
   ],
   "source": [
    "%pip install Folium"
   ]
  },
  {
   "cell_type": "code",
   "execution_count": 108,
   "id": "5b9157c1",
   "metadata": {},
   "outputs": [
    {
     "data": {
      "text/plain": [
       "'0.19.5'"
      ]
     },
     "execution_count": 108,
     "metadata": {},
     "output_type": "execute_result"
    }
   ],
   "source": [
    "# 모듈 사용\n",
    "import folium\n",
    "import json\n",
    "\n",
    "folium.__version__"
   ]
  },
  {
   "cell_type": "code",
   "execution_count": 139,
   "id": "17862583",
   "metadata": {},
   "outputs": [
    {
     "name": "stdout",
     "output_type": "stream",
     "text": [
      "c:\\Source\\iot-dataanalysis-2025\\day02\n"
     ]
    }
   ],
   "source": [
    "import os\n",
    "print(os.getcwd())"
   ]
  },
  {
   "cell_type": "code",
   "execution_count": 141,
   "id": "f8b98313",
   "metadata": {},
   "outputs": [
    {
     "ename": "AttributeError",
     "evalue": "'list' object has no attribute 'loads'",
     "output_type": "error",
     "traceback": [
      "\u001b[31m---------------------------------------------------------------------------\u001b[39m",
      "\u001b[31mAttributeError\u001b[39m                            Traceback (most recent call last)",
      "\u001b[36mCell\u001b[39m\u001b[36m \u001b[39m\u001b[32mIn[141]\u001b[39m\u001b[32m, line 5\u001b[39m\n\u001b[32m      2\u001b[39m loc = (\u001b[32m37.5776087830657\u001b[39m, \u001b[32m126.976896737645\u001b[39m) \u001b[38;5;66;03m# 경복궁\u001b[39;00m\n\u001b[32m      4\u001b[39m json_data = \u001b[38;5;28mopen\u001b[39m(\u001b[33m'\u001b[39m\u001b[33m./seoul_municipalities_geo_simple.json\u001b[39m\u001b[33m'\u001b[39m, encoding=\u001b[33m'\u001b[39m\u001b[33mutf-8\u001b[39m\u001b[33m'\u001b[39m).read()\n\u001b[32m----> \u001b[39m\u001b[32m5\u001b[39m data = \u001b[43mjson\u001b[49m\u001b[43m.\u001b[49m\u001b[43mloads\u001b[49m(json_data)\n\u001b[32m      8\u001b[39m m = folium.Map(location=loc, zoom_start=\u001b[32m11\u001b[39m)\n\u001b[32m      9\u001b[39m folium.GeoJson(data, name=\u001b[33m'\u001b[39m\u001b[33m동\u001b[39m\u001b[33m'\u001b[39m).add_to(m)\n",
      "\u001b[31mAttributeError\u001b[39m: 'list' object has no attribute 'loads'"
     ]
    }
   ],
   "source": [
    "# 서울 중심 위치. 위경도는 소수점 4자리 이상으로 사용해야 오차적음\n",
    "loc = (37.5776087830657, 126.976896737645) # 경복궁\n",
    "\n",
    "json_data = open('./seoul_municipalities_geo_simple.json', encoding='utf-8').read()\n",
    "data = json.loads(json_data)\n",
    "\n",
    "\n",
    "m = folium.Map(location=loc, zoom_start=11)\n",
    "folium.GeoJson(data, name='동').add_to(m)\n",
    "m = folium.Marker(\n",
    "    location=[37.5665, 126.9780],  # 위도, 경도\n",
    "    popup='서울시청',              # 클릭하면 뜨는 말풍선\n",
    "    #tooltip='여기를 클릭하세요'     # 마우스를 올리면 뜨는 말풍선\n",
    "    icon=folium.Icon(color='lightblue', icon='heart'), zoom_start=10).add_to(m)\n",
    "m\n",
    "# marker.add_to(m)\n",
    "#m = folium.Map(location=loc, zoom_start=15, zoom_control=1) # 줌 0~19, zoom_control = 1,0 지도에 +/- 버튼 표시 디폴트1\n",
    "#marker(location=loc, popup='경복궁').add_to(m)\n",
    "m\n",
    "\n",
    "# folium.icon 종류 - https://icons.getbootstrap.com/ 검색"
   ]
  },
  {
   "cell_type": "markdown",
   "id": "e7e613c6",
   "metadata": {},
   "source": [
    "### Faker\n",
    "- 더미데이터 라이브러리\n",
    "\n",
    "```shell\n",
    "%pip install Faker\n",
    "````"
   ]
  },
  {
   "cell_type": "code",
   "execution_count": 142,
   "id": "f29c4fc2",
   "metadata": {},
   "outputs": [
    {
     "name": "stdout",
     "output_type": "stream",
     "text": [
      "Collecting Faker\n",
      "  Downloading faker-37.1.0-py3-none-any.whl.metadata (15 kB)\n",
      "Requirement already satisfied: tzdata in c:\\source\\iot-dataanalysis-2025\\mlvenv\\lib\\site-packages (from Faker) (2025.2)\n",
      "Downloading faker-37.1.0-py3-none-any.whl (1.9 MB)\n",
      "   ---------------------------------------- 0.0/1.9 MB ? eta -:--:--\n",
      "    --------------------------------------- 0.0/1.9 MB 660.6 kB/s eta 0:00:03\n",
      "   ------ --------------------------------- 0.3/1.9 MB 3.9 MB/s eta 0:00:01\n",
      "   ---------------- ----------------------- 0.8/1.9 MB 6.2 MB/s eta 0:00:01\n",
      "   ----------------------------- ---------- 1.4/1.9 MB 8.3 MB/s eta 0:00:01\n",
      "   ---------------------------------------- 1.9/1.9 MB 9.4 MB/s eta 0:00:00\n",
      "Installing collected packages: Faker\n",
      "Successfully installed Faker-37.1.0\n",
      "Note: you may need to restart the kernel to use updated packages.\n"
     ]
    },
    {
     "name": "stderr",
     "output_type": "stream",
     "text": [
      "\n",
      "[notice] A new release of pip is available: 24.0 -> 25.0.1\n",
      "[notice] To update, run: python.exe -m pip install --upgrade pip\n"
     ]
    }
   ],
   "source": [
    "%pip install Faker"
   ]
  },
  {
   "cell_type": "code",
   "execution_count": null,
   "id": "6d091b47",
   "metadata": {},
   "outputs": [],
   "source": [
    "# 모듈 사용\n",
    "from faker import Faker\n",
    "import faker"
   ]
  }
 ],
 "metadata": {
  "kernelspec": {
   "display_name": "mlvenv",
   "language": "python",
   "name": "python3"
  },
  "language_info": {
   "codemirror_mode": {
    "name": "ipython",
    "version": 3
   },
   "file_extension": ".py",
   "mimetype": "text/x-python",
   "name": "python",
   "nbconvert_exporter": "python",
   "pygments_lexer": "ipython3",
   "version": "3.11.9"
  }
 },
 "nbformat": 4,
 "nbformat_minor": 5
}
